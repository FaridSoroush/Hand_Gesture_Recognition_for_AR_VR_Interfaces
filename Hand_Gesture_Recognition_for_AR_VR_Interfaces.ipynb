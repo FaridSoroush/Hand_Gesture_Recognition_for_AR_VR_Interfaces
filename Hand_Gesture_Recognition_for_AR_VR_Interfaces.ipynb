{
  "nbformat": 4,
  "nbformat_minor": 0,
  "metadata": {
    "colab": {
      "provenance": [],
      "authorship_tag": "ABX9TyOwJrVESJrfCw8HCjCWjWjh",
      "include_colab_link": true
    },
    "kernelspec": {
      "name": "python3",
      "display_name": "Python 3"
    },
    "language_info": {
      "name": "python"
    }
  },
  "cells": [
    {
      "cell_type": "markdown",
      "metadata": {
        "id": "view-in-github",
        "colab_type": "text"
      },
      "source": [
        "<a href=\"https://colab.research.google.com/github/FaridSoroush/Hand_Gesture_Recognition_for_AR_VR_Interfaces/blob/main/Hand_Gesture_Recognition_for_AR_VR_Interfaces.ipynb\" target=\"_parent\"><img src=\"https://colab.research.google.com/assets/colab-badge.svg\" alt=\"Open In Colab\"/></a>"
      ]
    },
    {
      "cell_type": "markdown",
      "source": [
        "**Install packages:**"
      ],
      "metadata": {
        "id": "7dZYi0SJoAFn"
      }
    },
    {
      "cell_type": "code",
      "source": [
        "!pip install tensorflow-datasets\n",
        "import tensorflow as tf\n",
        "import tensorflow_datasets as tfds\n",
        "import matplotlib.pyplot as plt"
      ],
      "metadata": {
        "id": "zAkZwXuhegNC"
      },
      "execution_count": null,
      "outputs": []
    },
    {
      "cell_type": "markdown",
      "source": [
        "**Load dataset, preprocess images, create train and test sets:**"
      ],
      "metadata": {
        "id": "fJKWeXM5n-nR"
      }
    },
    {
      "cell_type": "code",
      "source": [
        "# Load the rock_paper_scissors dataset\n",
        "(ds_train, ds_test), ds_info = tfds.load(\n",
        "    'rock_paper_scissors',\n",
        "    split=['train', 'test'],\n",
        "    with_info=True,\n",
        "    as_supervised=True)\n",
        "\n",
        "# Function to preprocess the images\n",
        "def preprocess(image, label):\n",
        "    image = tf.image.resize(image, [128, 128])\n",
        "    image = tf.cast(image, tf.float32) / 255.0  # Normalize pixel values\n",
        "    return image, label\n",
        "\n",
        "# Preprocess the training and test datasets\n",
        "ds_train = ds_train.map(preprocess).batch(32)\n",
        "ds_test = ds_test.map(preprocess).batch(32)"
      ],
      "metadata": {
        "id": "Qb3kCHc7ekz-"
      },
      "execution_count": null,
      "outputs": []
    },
    {
      "cell_type": "markdown",
      "source": [
        "**Train the model:**"
      ],
      "metadata": {
        "id": "q3QRJY7AoLCZ"
      }
    },
    {
      "cell_type": "code",
      "source": [
        "import tensorflow as tf\n",
        "from tensorflow.keras.models import Sequential\n",
        "from tensorflow.keras.layers import Dense, Conv2D, Flatten, Dropout, MaxPooling2D\n",
        "\n",
        "num_classes = 3  # rock, paper, scissors\n",
        "\n",
        "model = tf.keras.Sequential([\n",
        "    tf.keras.layers.Conv2D(16, 3, padding='same', activation='relu', input_shape=(128, 128, 3)),\n",
        "    tf.keras.layers.MaxPooling2D(),\n",
        "    tf.keras.layers.Conv2D(32, 3, padding='same', activation='relu'),\n",
        "    tf.keras.layers.MaxPooling2D(),\n",
        "    tf.keras.layers.Conv2D(64, 3, padding='same', activation='relu'),\n",
        "    tf.keras.layers.MaxPooling2D(),\n",
        "    tf.keras.layers.Flatten(),\n",
        "    tf.keras.layers.Dense(128, activation='relu'),\n",
        "    tf.keras.layers.Dense(num_classes)\n",
        "])\n"
      ],
      "metadata": {
        "id": "PhfokWmne5oF"
      },
      "execution_count": 6,
      "outputs": []
    },
    {
      "cell_type": "code",
      "source": [
        "model.compile(optimizer='adam',\n",
        "              loss=tf.keras.losses.SparseCategoricalCrossentropy(from_logits=True),\n",
        "              metrics=['accuracy'])\n",
        "\n",
        "# Train the model\n",
        "history = model.fit(\n",
        "    ds_train,\n",
        "    validation_data=ds_test,\n",
        "    epochs=10\n",
        ")\n"
      ],
      "metadata": {
        "colab": {
          "base_uri": "https://localhost:8080/"
        },
        "id": "YlocwDn3fNvA",
        "outputId": "35015a0a-2a35-45f9-9202-72bb23189f3e"
      },
      "execution_count": 7,
      "outputs": [
        {
          "output_type": "stream",
          "name": "stdout",
          "text": [
            "Epoch 1/10\n",
            "79/79 [==============================] - 43s 528ms/step - loss: 0.6568 - accuracy: 0.7278 - val_loss: 0.5864 - val_accuracy: 0.7796\n",
            "Epoch 2/10\n",
            "79/79 [==============================] - 40s 506ms/step - loss: 0.0222 - accuracy: 0.9956 - val_loss: 0.7781 - val_accuracy: 0.8091\n",
            "Epoch 3/10\n",
            "79/79 [==============================] - 36s 460ms/step - loss: 0.0041 - accuracy: 0.9992 - val_loss: 0.9920 - val_accuracy: 0.7823\n",
            "Epoch 4/10\n",
            "79/79 [==============================] - 38s 477ms/step - loss: 0.0012 - accuracy: 1.0000 - val_loss: 1.0990 - val_accuracy: 0.7715\n",
            "Epoch 5/10\n",
            "79/79 [==============================] - 40s 508ms/step - loss: 5.0150e-04 - accuracy: 1.0000 - val_loss: 1.2603 - val_accuracy: 0.7769\n",
            "Epoch 6/10\n",
            "79/79 [==============================] - 39s 497ms/step - loss: 2.4464e-04 - accuracy: 1.0000 - val_loss: 1.3761 - val_accuracy: 0.7796\n",
            "Epoch 7/10\n",
            "79/79 [==============================] - 38s 478ms/step - loss: 1.5031e-04 - accuracy: 1.0000 - val_loss: 1.4501 - val_accuracy: 0.7796\n",
            "Epoch 8/10\n",
            "79/79 [==============================] - 38s 482ms/step - loss: 1.0470e-04 - accuracy: 1.0000 - val_loss: 1.5120 - val_accuracy: 0.7742\n",
            "Epoch 9/10\n",
            "79/79 [==============================] - 40s 513ms/step - loss: 7.7103e-05 - accuracy: 1.0000 - val_loss: 1.5709 - val_accuracy: 0.7769\n",
            "Epoch 10/10\n",
            "79/79 [==============================] - 37s 472ms/step - loss: 5.8886e-05 - accuracy: 1.0000 - val_loss: 1.6270 - val_accuracy: 0.7742\n"
          ]
        }
      ]
    },
    {
      "cell_type": "markdown",
      "source": [
        "**Save the Trained Model:**"
      ],
      "metadata": {
        "id": "QFbcywz5n4g-"
      }
    },
    {
      "cell_type": "code",
      "source": [
        "model.save('model.h5')"
      ],
      "metadata": {
        "id": "cuEdFHjlnH-j"
      },
      "execution_count": null,
      "outputs": []
    },
    {
      "cell_type": "markdown",
      "source": [
        "**For real time video capture:**"
      ],
      "metadata": {
        "id": "KwK1nsLJoYHY"
      }
    },
    {
      "cell_type": "code",
      "source": [
        "import cv2\n",
        "import numpy as np\n",
        "\n",
        "cap = cv2.VideoCapture(0) # Open the default camera\n",
        "\n",
        "while True:\n",
        "    ret, frame = cap.read()\n",
        "    if not ret:\n",
        "        break\n",
        "\n",
        "    # Preprocess the frame (resize, normalize, etc.)\n",
        "    # ...\n",
        "\n",
        "    # Predict the gesture\n",
        "    prediction = model.predict(preprocessed_frame)\n",
        "\n",
        "    # Display the resulting frame\n",
        "    cv2.imshow('Gesture Recognition', frame)\n",
        "\n",
        "    if cv2.waitKey(1) & 0xFF == ord('q'):\n",
        "        break\n",
        "\n",
        "cap.release()\n",
        "cv2.destroyAllWindows()"
      ],
      "metadata": {
        "id": "2qGKJrFnll2u"
      },
      "execution_count": null,
      "outputs": []
    },
    {
      "cell_type": "markdown",
      "source": [
        "**For single image:**"
      ],
      "metadata": {
        "id": "KdsvxsMMl73s"
      }
    },
    {
      "cell_type": "code",
      "source": [
        "import cv2\n",
        "import numpy as np\n",
        "import tensorflow as tf\n",
        "\n",
        "def load_and_preprocess_image(image_path):\n",
        "    # Load the image\n",
        "    img = cv2.imread(image_path)\n",
        "    img = cv2.cvtColor(img, cv2.COLOR_BGR2RGB)\n",
        "\n",
        "    # Resize the image to the size expected by your model\n",
        "    img = cv2.resize(img, (128, 128))\n",
        "\n",
        "    # Normalize the image\n",
        "    img = img / 255.0\n",
        "\n",
        "    # Add batch dimension\n",
        "    img = np.expand_dims(img, axis=0)\n",
        "    return img\n",
        "\n",
        "image_path = 'image.png'\n",
        "img = load_and_preprocess_image(image_path)\n"
      ],
      "metadata": {
        "id": "tFURQfhfl6_T"
      },
      "execution_count": 11,
      "outputs": []
    },
    {
      "cell_type": "code",
      "source": [
        "# Load your trained model\n",
        "model = tf.keras.models.load_model('model.h5')\n",
        "\n",
        "# Make a prediction\n",
        "prediction = model.predict(img)\n",
        "\n",
        "# Decode the prediction\n",
        "predicted_class = np.argmax(prediction, axis=1)\n",
        "print(\"Predicted class:\", predicted_class)\n"
      ],
      "metadata": {
        "colab": {
          "base_uri": "https://localhost:8080/"
        },
        "id": "HlALFATNmtyh",
        "outputId": "31efd20a-e76a-41dd-a4c5-ee1317f7b060"
      },
      "execution_count": 14,
      "outputs": [
        {
          "output_type": "stream",
          "name": "stdout",
          "text": [
            "1/1 [==============================] - 0s 153ms/step\n",
            "Predicted class: [2]\n"
          ]
        }
      ]
    },
    {
      "cell_type": "markdown",
      "source": [
        "**Class 2 is scissor:**"
      ],
      "metadata": {
        "id": "mY8Y1cwFojHA"
      }
    },
    {
      "cell_type": "markdown",
      "source": [
        "![image.png](data:image/png;base64,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)"
      ],
      "metadata": {
        "id": "5ueA5iV2ooFi"
      }
    }
  ]
}